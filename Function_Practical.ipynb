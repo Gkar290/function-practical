{
  "nbformat": 4,
  "nbformat_minor": 0,
  "metadata": {
    "colab": {
      "provenance": []
    },
    "kernelspec": {
      "name": "python3",
      "display_name": "Python 3"
    },
    "language_info": {
      "name": "python"
    }
  },
  "cells": [
    {
      "cell_type": "code",
      "execution_count": 3,
      "metadata": {
        "colab": {
          "base_uri": "https://localhost:8080/"
        },
        "id": "sQVwvWHtuUOi",
        "outputId": "fc44fd6a-aa8c-439b-91c9-2a01aa117613"
      },
      "outputs": [
        {
          "output_type": "stream",
          "name": "stdout",
          "text": [
            "42\n"
          ]
        }
      ],
      "source": [
        "\"\"\"\n",
        "QSN-1-Write a Python function that takes a list of numbers as input and returns the sum of all even numbers in the list.\n",
        "ANS-\n",
        "\"\"\"\n",
        "def sum_even_numbers(numbers):\n",
        "    sum_even = 0\n",
        "    for num in numbers:\n",
        "        if num % 2 == 0:\n",
        "            sum_even += num\n",
        "    return sum_even\n",
        "\n",
        "numbers = [11, 12, 13, 14, 15, 16]\n",
        "result = sum_even_numbers(numbers)\n",
        "print(result)"
      ]
    },
    {
      "cell_type": "code",
      "source": [
        "\"\"\"\n",
        "QSN-2-Create a Python function that accepts a string and returns the reverse of that string.\n",
        "ANS-\n",
        "\"\"\"\n",
        "\n",
        "def reverse_string(input_string):\n",
        "    return input_string[::-1]\n",
        "input_str = \"pwskills\"\n",
        "reversed_str = reverse_string(input_str)\n",
        "print(reversed_str)"
      ],
      "metadata": {
        "colab": {
          "base_uri": "https://localhost:8080/"
        },
        "id": "hlepMyq8vCrs",
        "outputId": "f95583bc-9f20-41ad-b251-2926efba4ae3"
      },
      "execution_count": 7,
      "outputs": [
        {
          "output_type": "stream",
          "name": "stdout",
          "text": [
            "sllikswp\n"
          ]
        }
      ]
    },
    {
      "cell_type": "code",
      "source": [
        "\"\"\"\n",
        "QSN-3-Implement a Python function that takes a list of integers and returns a new list containing the squares of each number.\n",
        "ANS-\n",
        "\"\"\"\n",
        "def square(numbers):\n",
        "    return [num ** 2 for num in numbers]\n",
        "numbers = [1, 2, 3, 4, 5]\n",
        "squares = square(numbers)\n",
        "print(squares)"
      ],
      "metadata": {
        "colab": {
          "base_uri": "https://localhost:8080/"
        },
        "id": "O1TOX_R8xcJx",
        "outputId": "a79e7ec9-5c05-4dfc-da27-b67187c9807f"
      },
      "execution_count": 9,
      "outputs": [
        {
          "output_type": "stream",
          "name": "stdout",
          "text": [
            "[1, 4, 9, 16, 25]\n"
          ]
        }
      ]
    },
    {
      "cell_type": "code",
      "source": [
        "\"\"\"\n",
        "QSN-4-Write a Python function that checks if a given number is prime or not from 1 to 200.\n",
        "ANS-\n",
        "\"\"\"\n",
        "def check_prime(n):\n",
        "    if n <= 1:\n",
        "        return False\n",
        "    for i in range(2, int(n ** 0.5) + 1):\n",
        "        if n % i == 0:\n",
        "            return False\n",
        "    return True\n",
        "for i in range(1, 201):\n",
        "    if check_prime(i):\n",
        "        print(f\"{i} is a prime number\")"
      ],
      "metadata": {
        "colab": {
          "base_uri": "https://localhost:8080/"
        },
        "id": "nwoJPTf8ykHY",
        "outputId": "25121865-e763-4562-f12c-857147506164"
      },
      "execution_count": 10,
      "outputs": [
        {
          "output_type": "stream",
          "name": "stdout",
          "text": [
            "2 is a prime number\n",
            "3 is a prime number\n",
            "5 is a prime number\n",
            "7 is a prime number\n",
            "11 is a prime number\n",
            "13 is a prime number\n",
            "17 is a prime number\n",
            "19 is a prime number\n",
            "23 is a prime number\n",
            "29 is a prime number\n",
            "31 is a prime number\n",
            "37 is a prime number\n",
            "41 is a prime number\n",
            "43 is a prime number\n",
            "47 is a prime number\n",
            "53 is a prime number\n",
            "59 is a prime number\n",
            "61 is a prime number\n",
            "67 is a prime number\n",
            "71 is a prime number\n",
            "73 is a prime number\n",
            "79 is a prime number\n",
            "83 is a prime number\n",
            "89 is a prime number\n",
            "97 is a prime number\n",
            "101 is a prime number\n",
            "103 is a prime number\n",
            "107 is a prime number\n",
            "109 is a prime number\n",
            "113 is a prime number\n",
            "127 is a prime number\n",
            "131 is a prime number\n",
            "137 is a prime number\n",
            "139 is a prime number\n",
            "149 is a prime number\n",
            "151 is a prime number\n",
            "157 is a prime number\n",
            "163 is a prime number\n",
            "167 is a prime number\n",
            "173 is a prime number\n",
            "179 is a prime number\n",
            "181 is a prime number\n",
            "191 is a prime number\n",
            "193 is a prime number\n",
            "197 is a prime number\n",
            "199 is a prime number\n"
          ]
        }
      ]
    },
    {
      "cell_type": "code",
      "source": [
        "\"\"\"\n",
        "QSN-5- Create an iterator class in Python that generates the Fibonacci sequence up to a specified number of terms.\n",
        "ANS-\n",
        "\"\"\""
      ],
      "metadata": {
        "id": "ij3X8o1Dyj5x"
      },
      "execution_count": null,
      "outputs": []
    },
    {
      "cell_type": "code",
      "source": [
        "\"\"\"\n",
        "QSN-6-Write a generator function in Python that yields the powers of 2 up to a given exponent\n",
        "ANS-\n",
        "\"\"\"\n",
        "def powers_of_two(exponent):\n",
        " for i in range(exponent + 1):\n",
        "  yield 2 ** i\n",
        "  exponent = 5\n",
        "for power in powers_of_two(exponent):\n",
        "  print(power)\n"
      ],
      "metadata": {
        "colab": {
          "base_uri": "https://localhost:8080/"
        },
        "id": "Rw1z1Bw_1W2O",
        "outputId": "b4b76587-9f4d-4738-dcdc-1f203e2bfd2c"
      },
      "execution_count": 17,
      "outputs": [
        {
          "output_type": "stream",
          "name": "stdout",
          "text": [
            "1\n",
            "2\n",
            "4\n",
            "8\n",
            "16\n",
            "32\n"
          ]
        }
      ]
    },
    {
      "cell_type": "code",
      "source": [
        " \"\"\"\n",
        "QSN-7-Implement a generator function that reads a file line by line and yields each line as a string.\n",
        "ANS-\n",
        "\"\"\"\n",
        "def read_file_lines(file_path):\n",
        "    with open(file_path, 'r') as file:\n",
        "        for line in file:\n",
        "            yield line"
      ],
      "metadata": {
        "id": "ni53JNga4JId"
      },
      "execution_count": 20,
      "outputs": []
    },
    {
      "cell_type": "code",
      "source": [
        "\"\"\"\n",
        "QSN-9-Write a Python program that uses `map()` to convert a list of temperatures from Celsius to Fahrenheit.\n",
        "ANS-\n",
        "\"\"\"\n",
        "def celsius_to_fahrenheit(celsius):\n",
        "  return (celsius * 9/5) + 32\n",
        "celsius_temperatures = [0, 10, 20, 30, 40]\n",
        "fahrenheit_temperatures = list(map(celsius_to_fahrenheit,celsius_temperatures))\n",
        "print(\"Celsius Temperatures:\",celsius_temperatures)\n",
        "print(\"Fahrenheit Temperatures:\", fahrenheit_temperatures)\n",
        "\n"
      ],
      "metadata": {
        "colab": {
          "base_uri": "https://localhost:8080/"
        },
        "id": "fmy-HlH069bE",
        "outputId": "f0f70f4d-6afd-4750-cb8b-ede9a601f586"
      },
      "execution_count": 25,
      "outputs": [
        {
          "output_type": "stream",
          "name": "stdout",
          "text": [
            "Celsius Temperatures: [0, 10, 20, 30, 40]\n",
            "Fahrenheit Temperatures: [32.0, 50.0, 68.0, 86.0, 104.0]\n"
          ]
        }
      ]
    },
    {
      "cell_type": "code",
      "source": [
        "\"\"\"\n",
        "QSN-8-Use a lambda function in Python to sort a list of tuples based on the second element of each tuple.\n",
        "ANS-\n",
        "\"\"\"\n",
        "tuples_list = [(1, 3), (4, 2), (3, 1), (2, 4)]\n",
        "tuples_list.sort(key=lambda x: x[1])\n",
        "\n",
        "print(tuples_list)\n"
      ],
      "metadata": {
        "colab": {
          "base_uri": "https://localhost:8080/"
        },
        "id": "--CGHpZ--K8T",
        "outputId": "7bb48f24-393d-4782-aac5-413f53697df6"
      },
      "execution_count": 32,
      "outputs": [
        {
          "output_type": "stream",
          "name": "stdout",
          "text": [
            "[(3, 1), (4, 2), (1, 3), (2, 4)]\n"
          ]
        }
      ]
    },
    {
      "cell_type": "code",
      "source": [
        "\"\"\"\n",
        "QSN-10-Create a Python program that uses `filter()` to remove all the vowels from a given string.\n",
        "ANS-\n",
        "\"\"\"\n",
        "\n",
        "def remove_vowels(char):\n",
        "    vowels = 'aeiouAEIOU'\n",
        "    return char not in vowels\n",
        "\n",
        "def main():\n",
        "    input_str = \"Gaurab Kar\"\n",
        "    no_vowels_str = ''.join(filter(remove_vowels, input_str))\n",
        "\n",
        "    print(\"Original String:\", input_str)\n",
        "    print(\"String without Vowels:\", no_vowels_str)\n",
        "\n",
        "if __name__ == \"__main__\":\n",
        "    main()\n"
      ],
      "metadata": {
        "colab": {
          "base_uri": "https://localhost:8080/"
        },
        "id": "Y9ZLmazO_yot",
        "outputId": "b1243daf-5013-4155-c90d-42943d3fd835"
      },
      "execution_count": 33,
      "outputs": [
        {
          "output_type": "stream",
          "name": "stdout",
          "text": [
            "Original String: Gaurab Kar\n",
            "String without Vowels: Grb Kr\n"
          ]
        }
      ]
    },
    {
      "cell_type": "code",
      "source": [
        "  \"\"\"\n",
        "  QSN-11-(AS PER THE GIVEN IMAGE IN QSN SHEET)\n",
        "Write a Python program, which returns a list with 2-tuples.\n",
        "Each tuple consists of the order number and the product of the price per item and the quantity.\n",
        "The product should be increased by 10,- € if the value of the order is smaller than 100,00 €. Write a Python program using lambda and map\n",
        "ANS--\n",
        "\"\"\"\n",
        "orders = [\n",
        "    (34587, \"Learning Python, Mark Lutz\", 4, 40.95),\n",
        "    (98762, \"Programming Python, Mark Lutz\", 5, 56.8),\n",
        "    (77226, \"Head First Python, Paul Barry\", 3, 32.95),\n",
        "    (88112, \"Einführung in Python3, Bernd Klein\", 3, 24.99)]\n",
        "order_values = list(map(\n",
        "    lambda x: (x[0], x[3]*x[2] + 10 if x[3]*x[2] < 100 else x[3]*x[2]),orders))\n",
        "print(order_values)\n"
      ],
      "metadata": {
        "colab": {
          "base_uri": "https://localhost:8080/"
        },
        "id": "tUZwyprrFBZW",
        "outputId": "5303da65-182f-4941-8ffa-4d67cb0905c8"
      },
      "execution_count": 35,
      "outputs": [
        {
          "output_type": "stream",
          "name": "stdout",
          "text": [
            "[(34587, 163.8), (98762, 284.0), (77226, 108.85000000000001), (88112, 84.97)]\n"
          ]
        }
      ]
    },
    {
      "cell_type": "code",
      "source": [],
      "metadata": {
        "id": "v200PNW3FG1O"
      },
      "execution_count": null,
      "outputs": []
    }
  ]
}